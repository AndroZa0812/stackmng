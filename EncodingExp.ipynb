{
 "cells": [
  {
   "cell_type": "code",
   "execution_count": 1,
   "metadata": {},
   "outputs": [
    {
     "name": "stderr",
     "output_type": "stream",
     "text": [
      "c:\\Dev\\JB\\Day3\\CourseProject\\venv\\lib\\site-packages\\tqdm\\auto.py:21: TqdmWarning: IProgress not found. Please update jupyter and ipywidgets. See https://ipywidgets.readthedocs.io/en/stable/user_install.html\n",
      "  from .autonotebook import tqdm as notebook_tqdm\n"
     ]
    }
   ],
   "source": [
    "from transformers import AutoTokenizer, AutoModel\n",
    "import torch\n",
    "from sklearn.metrics.pairwise import cosine_similarity"
   ]
  },
  {
   "cell_type": "code",
   "execution_count": 2,
   "metadata": {},
   "outputs": [
    {
     "name": "stderr",
     "output_type": "stream",
     "text": [
      "Downloading (…)lve/main/config.json: 100%|██████████| 667/667 [00:00<?, ?B/s] \n",
      "c:\\Dev\\JB\\Day3\\CourseProject\\venv\\lib\\site-packages\\huggingface_hub\\file_download.py:133: UserWarning: `huggingface_hub` cache-system uses symlinks by default to efficiently store duplicated files but your machine does not support them in C:\\Users\\natma\\.cache\\huggingface\\hub. Caching files will still work but in a degraded version that might require more space on your disk. This warning can be disabled by setting the `HF_HUB_DISABLE_SYMLINKS_WARNING` environment variable. For more details, see https://huggingface.co/docs/huggingface_hub/how-to-cache#limitations.\n",
      "To support symlinks on Windows, you either need to activate Developer Mode or to run Python as an administrator. In order to see activate developer mode, see this article: https://docs.microsoft.com/en-us/windows/apps/get-started/enable-your-device-for-development\n",
      "  warnings.warn(message)\n",
      "Downloading pytorch_model.bin: 100%|██████████| 499M/499M [02:12<00:00, 3.76MB/s] \n"
     ]
    }
   ],
   "source": [
    "tokenizer = AutoTokenizer.from_pretrained(\"bigcode/starencoder\")\n",
    "model = AutoModel.from_pretrained(\"bigcode/starencoder\")"
   ]
  },
  {
   "cell_type": "code",
   "execution_count": 9,
   "metadata": {},
   "outputs": [],
   "source": [
    "def get_similarity(text1, text2):\n",
    "    # Tokenize the texts\n",
    "    encoded_text1 = tokenizer.encode(text1, add_special_tokens=True)\n",
    "    encoded_text2 = tokenizer.encode(text2, add_special_tokens=True)\n",
    "\n",
    "    # Define the maximum length for padding\n",
    "    max_length = max(len(encoded_text1), len(encoded_text2))\n",
    "\n",
    "    # Pad the encoded texts manually\n",
    "    padded_text1 = encoded_text1 + [0] * (max_length - len(encoded_text1))\n",
    "    padded_text2 = encoded_text2 + [0] * (max_length - len(encoded_text2))\n",
    "\n",
    "    # Convert the padded texts to tensors\n",
    "    padded_text1_tensor = torch.tensor(padded_text1).unsqueeze(0)\n",
    "    padded_text2_tensor = torch.tensor(padded_text2).unsqueeze(0)\n",
    "\n",
    "    # Generate the embeddings for the padded texts using the model\n",
    "    with torch.no_grad():\n",
    "        embeddings_text1 = model(padded_text1_tensor).last_hidden_state.mean(dim=1)\n",
    "        embeddings_text2 = model(padded_text2_tensor).last_hidden_state.mean(dim=1)\n",
    "\n",
    "    # Calculate the cosine similarity between the embeddings\n",
    "    similarity_score = cosine_similarity(embeddings_text1, embeddings_text2)[0][0]\n",
    "    return similarity_score"
   ]
  },
  {
   "cell_type": "code",
   "execution_count": 10,
   "metadata": {},
   "outputs": [
    {
     "name": "stdout",
     "output_type": "stream",
     "text": [
      "Similarity score: 0.92662966\n"
     ]
    }
   ],
   "source": [
    "# Define your texts\n",
    "text1 = \"I like Wombats for a reason.\"\n",
    "text2 = \"A very different one speaking about animals having square poop\"\n",
    "\n",
    "similarity_score = get_similarity(text1=text1, text2=text2)\n",
    "\n",
    "# Print the similarity score\n",
    "print(\"Similarity score:\", similarity_score)\n"
   ]
  },
  {
   "cell_type": "code",
   "execution_count": 15,
   "metadata": {},
   "outputs": [],
   "source": [
    "crawler1_path = \"testing_embeding/crawler1.py\"\n",
    "crawler2_path = \"testing_embeding/crawler2.py\"\n",
    "snake_path = \"testing_embeding/snake.py\"\n",
    "\n",
    "code_examples = []\n",
    "\n",
    "with open(crawler1_path, 'r') as f:\n",
    "    code_examples.append(('crawler1', f.read()))\n",
    "with open(crawler2_path, 'r') as f:\n",
    "    code_examples.append(('crawler2', f.read()))\n",
    "with open(snake_path, 'r') as f:\n",
    "    code_examples.append(('snake', f.read()))"
   ]
  },
  {
   "cell_type": "code",
   "execution_count": 16,
   "metadata": {},
   "outputs": [
    {
     "name": "stdout",
     "output_type": "stream",
     "text": [
      "similarity between crawler1 and crawler2: 0.9679924249649048\n",
      "similarity between crawler1 and snake: 0.5613067746162415\n",
      "similarity between crawler2 and crawler1: 0.9679924249649048\n",
      "similarity between crawler2 and snake: 0.6073487401008606\n",
      "similarity between snake and crawler1: 0.5613067746162415\n",
      "similarity between snake and crawler2: 0.6073487401008606\n"
     ]
    }
   ],
   "source": [
    "from itertools import permutations\n",
    "\n",
    "# Get all permutations of pairs\n",
    "pair_permutations = list(permutations(code_examples, 2))\n",
    "\n",
    "# Print the pair permutations\n",
    "for pair in pair_permutations:\n",
    "    print(f'similarity between {pair[0][0]} and {pair[1][0]}: {get_similarity(text1=pair[0][1], text2=pair[1][1])}')\n"
   ]
  },
  {
   "cell_type": "code",
   "execution_count": null,
   "metadata": {},
   "outputs": [],
   "source": []
  }
 ],
 "metadata": {
  "kernelspec": {
   "display_name": "venv",
   "language": "python",
   "name": "python3"
  },
  "language_info": {
   "codemirror_mode": {
    "name": "ipython",
    "version": 3
   },
   "file_extension": ".py",
   "mimetype": "text/x-python",
   "name": "python",
   "nbconvert_exporter": "python",
   "pygments_lexer": "ipython3",
   "version": "3.10.6"
  },
  "orig_nbformat": 4
 },
 "nbformat": 4,
 "nbformat_minor": 2
}
